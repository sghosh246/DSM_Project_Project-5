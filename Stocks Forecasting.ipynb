{
 "cells": [
  {
   "cell_type": "code",
   "execution_count": 1,
   "metadata": {
    "collapsed": true
   },
   "outputs": [],
   "source": [
    "import pandas as pd\n",
    "from pandas import datetime\n",
    "import matplotlib.pyplot as plt\n",
    "%matplotlib inline"
   ]
  },
  {
   "cell_type": "code",
   "execution_count": 2,
   "metadata": {
    "collapsed": true
   },
   "outputs": [],
   "source": [
    "ds = pd.read_csv(\"data_stocks.csv\")"
   ]
  },
  {
   "cell_type": "code",
   "execution_count": 3,
   "metadata": {},
   "outputs": [
    {
     "data": {
      "text/plain": [
       "dtype('int64')"
      ]
     },
     "execution_count": 3,
     "metadata": {},
     "output_type": "execute_result"
    }
   ],
   "source": [
    "ds['DATE'].dtypes"
   ]
  },
  {
   "cell_type": "code",
   "execution_count": 4,
   "metadata": {
    "collapsed": true
   },
   "outputs": [],
   "source": [
    "ds['DATE'] = pd.to_datetime(ds['DATE'], unit='s')"
   ]
  },
  {
   "cell_type": "code",
   "execution_count": 5,
   "metadata": {},
   "outputs": [
    {
     "data": {
      "text/plain": [
       "41261   2017-08-31 19:56:00\n",
       "41262   2017-08-31 19:57:00\n",
       "41263   2017-08-31 19:58:00\n",
       "41264   2017-08-31 19:59:00\n",
       "41265   2017-08-31 20:00:00\n",
       "Name: DATE, dtype: datetime64[ns]"
      ]
     },
     "execution_count": 5,
     "metadata": {},
     "output_type": "execute_result"
    }
   ],
   "source": [
    "ds['DATE'].tail()"
   ]
  },
  {
   "cell_type": "code",
   "execution_count": 6,
   "metadata": {
    "collapsed": true
   },
   "outputs": [],
   "source": [
    "ds.index = ds['DATE']"
   ]
  },
  {
   "cell_type": "code",
   "execution_count": 7,
   "metadata": {
    "collapsed": true
   },
   "outputs": [],
   "source": [
    "ds.drop('DATE',axis = 1,inplace=True)"
   ]
  },
  {
   "cell_type": "code",
   "execution_count": 8,
   "metadata": {},
   "outputs": [
    {
     "data": {
      "text/html": [
       "<div>\n",
       "<style>\n",
       "    .dataframe thead tr:only-child th {\n",
       "        text-align: right;\n",
       "    }\n",
       "\n",
       "    .dataframe thead th {\n",
       "        text-align: left;\n",
       "    }\n",
       "\n",
       "    .dataframe tbody tr th {\n",
       "        vertical-align: top;\n",
       "    }\n",
       "</style>\n",
       "<table border=\"1\" class=\"dataframe\">\n",
       "  <thead>\n",
       "    <tr style=\"text-align: right;\">\n",
       "      <th></th>\n",
       "      <th>SP500</th>\n",
       "      <th>NASDAQ.AAL</th>\n",
       "      <th>NASDAQ.AAPL</th>\n",
       "      <th>NASDAQ.ADBE</th>\n",
       "      <th>NASDAQ.ADI</th>\n",
       "      <th>NASDAQ.ADP</th>\n",
       "      <th>NASDAQ.ADSK</th>\n",
       "      <th>NASDAQ.AKAM</th>\n",
       "      <th>NASDAQ.ALXN</th>\n",
       "      <th>NASDAQ.AMAT</th>\n",
       "      <th>...</th>\n",
       "      <th>NYSE.WYN</th>\n",
       "      <th>NYSE.XEC</th>\n",
       "      <th>NYSE.XEL</th>\n",
       "      <th>NYSE.XL</th>\n",
       "      <th>NYSE.XOM</th>\n",
       "      <th>NYSE.XRX</th>\n",
       "      <th>NYSE.XYL</th>\n",
       "      <th>NYSE.YUM</th>\n",
       "      <th>NYSE.ZBH</th>\n",
       "      <th>NYSE.ZTS</th>\n",
       "    </tr>\n",
       "    <tr>\n",
       "      <th>DATE</th>\n",
       "      <th></th>\n",
       "      <th></th>\n",
       "      <th></th>\n",
       "      <th></th>\n",
       "      <th></th>\n",
       "      <th></th>\n",
       "      <th></th>\n",
       "      <th></th>\n",
       "      <th></th>\n",
       "      <th></th>\n",
       "      <th></th>\n",
       "      <th></th>\n",
       "      <th></th>\n",
       "      <th></th>\n",
       "      <th></th>\n",
       "      <th></th>\n",
       "      <th></th>\n",
       "      <th></th>\n",
       "      <th></th>\n",
       "      <th></th>\n",
       "      <th></th>\n",
       "    </tr>\n",
       "  </thead>\n",
       "  <tbody>\n",
       "    <tr>\n",
       "      <th>2017-08-31 19:56:00</th>\n",
       "      <td>2472.22</td>\n",
       "      <td>44.72</td>\n",
       "      <td>164.11</td>\n",
       "      <td>155.090</td>\n",
       "      <td>83.67</td>\n",
       "      <td>106.565</td>\n",
       "      <td>114.49</td>\n",
       "      <td>47.150</td>\n",
       "      <td>142.425</td>\n",
       "      <td>45.130</td>\n",
       "      <td>...</td>\n",
       "      <td>99.675</td>\n",
       "      <td>99.53</td>\n",
       "      <td>49.485</td>\n",
       "      <td>40.955</td>\n",
       "      <td>76.360</td>\n",
       "      <td>32.285</td>\n",
       "      <td>62.110</td>\n",
       "      <td>76.88</td>\n",
       "      <td>114.31</td>\n",
       "      <td>62.7250</td>\n",
       "    </tr>\n",
       "    <tr>\n",
       "      <th>2017-08-31 19:57:00</th>\n",
       "      <td>2471.77</td>\n",
       "      <td>44.73</td>\n",
       "      <td>164.12</td>\n",
       "      <td>155.160</td>\n",
       "      <td>83.65</td>\n",
       "      <td>106.590</td>\n",
       "      <td>114.52</td>\n",
       "      <td>47.150</td>\n",
       "      <td>142.450</td>\n",
       "      <td>45.130</td>\n",
       "      <td>...</td>\n",
       "      <td>99.730</td>\n",
       "      <td>99.63</td>\n",
       "      <td>49.480</td>\n",
       "      <td>40.960</td>\n",
       "      <td>76.370</td>\n",
       "      <td>32.295</td>\n",
       "      <td>62.100</td>\n",
       "      <td>76.90</td>\n",
       "      <td>114.33</td>\n",
       "      <td>62.7100</td>\n",
       "    </tr>\n",
       "    <tr>\n",
       "      <th>2017-08-31 19:58:00</th>\n",
       "      <td>2470.03</td>\n",
       "      <td>44.74</td>\n",
       "      <td>164.01</td>\n",
       "      <td>155.065</td>\n",
       "      <td>83.62</td>\n",
       "      <td>106.520</td>\n",
       "      <td>114.47</td>\n",
       "      <td>47.150</td>\n",
       "      <td>142.330</td>\n",
       "      <td>45.135</td>\n",
       "      <td>...</td>\n",
       "      <td>99.735</td>\n",
       "      <td>99.64</td>\n",
       "      <td>49.495</td>\n",
       "      <td>40.940</td>\n",
       "      <td>76.315</td>\n",
       "      <td>32.290</td>\n",
       "      <td>62.090</td>\n",
       "      <td>76.88</td>\n",
       "      <td>114.31</td>\n",
       "      <td>62.6850</td>\n",
       "    </tr>\n",
       "    <tr>\n",
       "      <th>2017-08-31 19:59:00</th>\n",
       "      <td>2471.49</td>\n",
       "      <td>44.71</td>\n",
       "      <td>163.88</td>\n",
       "      <td>154.960</td>\n",
       "      <td>83.58</td>\n",
       "      <td>106.400</td>\n",
       "      <td>114.33</td>\n",
       "      <td>47.135</td>\n",
       "      <td>142.170</td>\n",
       "      <td>45.065</td>\n",
       "      <td>...</td>\n",
       "      <td>99.700</td>\n",
       "      <td>99.63</td>\n",
       "      <td>49.485</td>\n",
       "      <td>40.925</td>\n",
       "      <td>76.300</td>\n",
       "      <td>32.275</td>\n",
       "      <td>62.075</td>\n",
       "      <td>76.83</td>\n",
       "      <td>114.23</td>\n",
       "      <td>62.6301</td>\n",
       "    </tr>\n",
       "    <tr>\n",
       "      <th>2017-08-31 20:00:00</th>\n",
       "      <td>2471.49</td>\n",
       "      <td>44.74</td>\n",
       "      <td>163.98</td>\n",
       "      <td>155.160</td>\n",
       "      <td>83.69</td>\n",
       "      <td>106.470</td>\n",
       "      <td>114.46</td>\n",
       "      <td>47.150</td>\n",
       "      <td>142.410</td>\n",
       "      <td>45.120</td>\n",
       "      <td>...</td>\n",
       "      <td>99.670</td>\n",
       "      <td>99.64</td>\n",
       "      <td>49.490</td>\n",
       "      <td>40.940</td>\n",
       "      <td>76.320</td>\n",
       "      <td>32.270</td>\n",
       "      <td>62.070</td>\n",
       "      <td>76.81</td>\n",
       "      <td>114.28</td>\n",
       "      <td>62.6800</td>\n",
       "    </tr>\n",
       "  </tbody>\n",
       "</table>\n",
       "<p>5 rows × 501 columns</p>\n",
       "</div>"
      ],
      "text/plain": [
       "                       SP500  NASDAQ.AAL  NASDAQ.AAPL  NASDAQ.ADBE  \\\n",
       "DATE                                                                 \n",
       "2017-08-31 19:56:00  2472.22       44.72       164.11      155.090   \n",
       "2017-08-31 19:57:00  2471.77       44.73       164.12      155.160   \n",
       "2017-08-31 19:58:00  2470.03       44.74       164.01      155.065   \n",
       "2017-08-31 19:59:00  2471.49       44.71       163.88      154.960   \n",
       "2017-08-31 20:00:00  2471.49       44.74       163.98      155.160   \n",
       "\n",
       "                     NASDAQ.ADI  NASDAQ.ADP  NASDAQ.ADSK  NASDAQ.AKAM  \\\n",
       "DATE                                                                    \n",
       "2017-08-31 19:56:00       83.67     106.565       114.49       47.150   \n",
       "2017-08-31 19:57:00       83.65     106.590       114.52       47.150   \n",
       "2017-08-31 19:58:00       83.62     106.520       114.47       47.150   \n",
       "2017-08-31 19:59:00       83.58     106.400       114.33       47.135   \n",
       "2017-08-31 20:00:00       83.69     106.470       114.46       47.150   \n",
       "\n",
       "                     NASDAQ.ALXN  NASDAQ.AMAT    ...     NYSE.WYN  NYSE.XEC  \\\n",
       "DATE                                             ...                          \n",
       "2017-08-31 19:56:00      142.425       45.130    ...       99.675     99.53   \n",
       "2017-08-31 19:57:00      142.450       45.130    ...       99.730     99.63   \n",
       "2017-08-31 19:58:00      142.330       45.135    ...       99.735     99.64   \n",
       "2017-08-31 19:59:00      142.170       45.065    ...       99.700     99.63   \n",
       "2017-08-31 20:00:00      142.410       45.120    ...       99.670     99.64   \n",
       "\n",
       "                     NYSE.XEL  NYSE.XL  NYSE.XOM  NYSE.XRX  NYSE.XYL  \\\n",
       "DATE                                                                   \n",
       "2017-08-31 19:56:00    49.485   40.955    76.360    32.285    62.110   \n",
       "2017-08-31 19:57:00    49.480   40.960    76.370    32.295    62.100   \n",
       "2017-08-31 19:58:00    49.495   40.940    76.315    32.290    62.090   \n",
       "2017-08-31 19:59:00    49.485   40.925    76.300    32.275    62.075   \n",
       "2017-08-31 20:00:00    49.490   40.940    76.320    32.270    62.070   \n",
       "\n",
       "                     NYSE.YUM  NYSE.ZBH  NYSE.ZTS  \n",
       "DATE                                               \n",
       "2017-08-31 19:56:00     76.88    114.31   62.7250  \n",
       "2017-08-31 19:57:00     76.90    114.33   62.7100  \n",
       "2017-08-31 19:58:00     76.88    114.31   62.6850  \n",
       "2017-08-31 19:59:00     76.83    114.23   62.6301  \n",
       "2017-08-31 20:00:00     76.81    114.28   62.6800  \n",
       "\n",
       "[5 rows x 501 columns]"
      ]
     },
     "execution_count": 8,
     "metadata": {},
     "output_type": "execute_result"
    }
   ],
   "source": [
    "ds.tail()"
   ]
  },
  {
   "cell_type": "code",
   "execution_count": 9,
   "metadata": {
    "collapsed": true
   },
   "outputs": [],
   "source": [
    "ds_AAPL = ds[['NASDAQ.AAPL']].copy()"
   ]
  },
  {
   "cell_type": "code",
   "execution_count": 10,
   "metadata": {
    "scrolled": true
   },
   "outputs": [
    {
     "data": {
      "text/html": [
       "<div>\n",
       "<style>\n",
       "    .dataframe thead tr:only-child th {\n",
       "        text-align: right;\n",
       "    }\n",
       "\n",
       "    .dataframe thead th {\n",
       "        text-align: left;\n",
       "    }\n",
       "\n",
       "    .dataframe tbody tr th {\n",
       "        vertical-align: top;\n",
       "    }\n",
       "</style>\n",
       "<table border=\"1\" class=\"dataframe\">\n",
       "  <thead>\n",
       "    <tr style=\"text-align: right;\">\n",
       "      <th></th>\n",
       "      <th>NASDAQ.AAPL</th>\n",
       "    </tr>\n",
       "    <tr>\n",
       "      <th>DATE</th>\n",
       "      <th></th>\n",
       "    </tr>\n",
       "  </thead>\n",
       "  <tbody>\n",
       "    <tr>\n",
       "      <th>2017-08-31 19:56:00</th>\n",
       "      <td>164.11</td>\n",
       "    </tr>\n",
       "    <tr>\n",
       "      <th>2017-08-31 19:57:00</th>\n",
       "      <td>164.12</td>\n",
       "    </tr>\n",
       "    <tr>\n",
       "      <th>2017-08-31 19:58:00</th>\n",
       "      <td>164.01</td>\n",
       "    </tr>\n",
       "    <tr>\n",
       "      <th>2017-08-31 19:59:00</th>\n",
       "      <td>163.88</td>\n",
       "    </tr>\n",
       "    <tr>\n",
       "      <th>2017-08-31 20:00:00</th>\n",
       "      <td>163.98</td>\n",
       "    </tr>\n",
       "  </tbody>\n",
       "</table>\n",
       "</div>"
      ],
      "text/plain": [
       "                     NASDAQ.AAPL\n",
       "DATE                            \n",
       "2017-08-31 19:56:00       164.11\n",
       "2017-08-31 19:57:00       164.12\n",
       "2017-08-31 19:58:00       164.01\n",
       "2017-08-31 19:59:00       163.88\n",
       "2017-08-31 20:00:00       163.98"
      ]
     },
     "execution_count": 10,
     "metadata": {},
     "output_type": "execute_result"
    }
   ],
   "source": [
    "ds_AAPL.tail()"
   ]
  },
  {
   "cell_type": "code",
   "execution_count": 11,
   "metadata": {},
   "outputs": [
    {
     "data": {
      "text/plain": [
       "NASDAQ.AAPL    41266\n",
       "dtype: int64"
      ]
     },
     "execution_count": 11,
     "metadata": {},
     "output_type": "execute_result"
    }
   ],
   "source": [
    "ds_AAPL.count()"
   ]
  },
  {
   "cell_type": "code",
   "execution_count": 12,
   "metadata": {},
   "outputs": [
    {
     "data": {
      "text/plain": [
       "<matplotlib.axes._subplots.AxesSubplot at 0x17360ab0940>"
      ]
     },
     "execution_count": 12,
     "metadata": {},
     "output_type": "execute_result"
    },
    {
     "data": {
      "image/png": "[encoded data removed]",
      "text/plain": [
       "<matplotlib.figure.Figure at 0x173609a5e10>"
      ]
     },
     "metadata": {},
     "output_type": "display_data"
    }
   ],
   "source": [
    "ds_AAPL.plot()"
   ]
  },
  {
   "cell_type": "markdown",
   "metadata": {},
   "source": [
    "Stationary means mean,variance and covariance is constant over periods."
   ]
  },
  {
   "cell_type": "code",
   "execution_count": 13,
   "metadata": {},
   "outputs": [
    {
     "name": "stderr",
     "output_type": "stream",
     "text": [
      "E:\\Anaconda\\lib\\site-packages\\statsmodels\\compat\\pandas.py:56: FutureWarning: The pandas.core.datetools module is deprecated and will be removed in a future version. Please use the pandas.tseries module instead.\n",
      "  from pandas.core import datetools\n"
     ]
    },
    {
     "data": {
      "image/png": "[encoded data removed]",
      "text/plain": [
       "<matplotlib.figure.Figure at 0x173609ca4a8>"
      ]
     },
     "execution_count": 13,
     "metadata": {},
     "output_type": "execute_result"
    },
    {
     "data": {
      "image/png": "[encoded data removed]",
      "text/plain": [
       "<matplotlib.figure.Figure at 0x173609ca4a8>"
      ]
     },
     "metadata": {},
     "output_type": "display_data"
    }
   ],
   "source": [
    "from statsmodels.graphics.tsaplots import plot_acf\n",
    "plot_acf(ds_AAPL)"
   ]
  },
  {
   "cell_type": "markdown",
   "metadata": {},
   "source": [
    "# Converting series to stationary"
   ]
  },
  {
   "cell_type": "code",
   "execution_count": 14,
   "metadata": {},
   "outputs": [
    {
     "data": {
      "text/html": [
       "<div>\n",
       "<style>\n",
       "    .dataframe thead tr:only-child th {\n",
       "        text-align: right;\n",
       "    }\n",
       "\n",
       "    .dataframe thead th {\n",
       "        text-align: left;\n",
       "    }\n",
       "\n",
       "    .dataframe tbody tr th {\n",
       "        vertical-align: top;\n",
       "    }\n",
       "</style>\n",
       "<table border=\"1\" class=\"dataframe\">\n",
       "  <thead>\n",
       "    <tr style=\"text-align: right;\">\n",
       "      <th></th>\n",
       "      <th>NASDAQ.AAPL</th>\n",
       "    </tr>\n",
       "    <tr>\n",
       "      <th>DATE</th>\n",
       "      <th></th>\n",
       "    </tr>\n",
       "  </thead>\n",
       "  <tbody>\n",
       "    <tr>\n",
       "      <th>2017-04-03 13:30:00</th>\n",
       "      <td>NaN</td>\n",
       "    </tr>\n",
       "    <tr>\n",
       "      <th>2017-04-03 13:31:00</th>\n",
       "      <td>143.6800</td>\n",
       "    </tr>\n",
       "    <tr>\n",
       "      <th>2017-04-03 13:32:00</th>\n",
       "      <td>143.7000</td>\n",
       "    </tr>\n",
       "    <tr>\n",
       "      <th>2017-04-03 13:33:00</th>\n",
       "      <td>143.6901</td>\n",
       "    </tr>\n",
       "    <tr>\n",
       "      <th>2017-04-03 13:34:00</th>\n",
       "      <td>143.6400</td>\n",
       "    </tr>\n",
       "    <tr>\n",
       "      <th>2017-04-03 13:35:00</th>\n",
       "      <td>143.6600</td>\n",
       "    </tr>\n",
       "    <tr>\n",
       "      <th>2017-04-03 13:36:00</th>\n",
       "      <td>143.7800</td>\n",
       "    </tr>\n",
       "    <tr>\n",
       "      <th>2017-04-03 13:37:00</th>\n",
       "      <td>143.8640</td>\n",
       "    </tr>\n",
       "    <tr>\n",
       "      <th>2017-04-03 13:38:00</th>\n",
       "      <td>143.8100</td>\n",
       "    </tr>\n",
       "    <tr>\n",
       "      <th>2017-04-03 13:39:00</th>\n",
       "      <td>143.8150</td>\n",
       "    </tr>\n",
       "    <tr>\n",
       "      <th>2017-04-03 13:40:00</th>\n",
       "      <td>143.8000</td>\n",
       "    </tr>\n",
       "    <tr>\n",
       "      <th>2017-04-03 13:41:00</th>\n",
       "      <td>143.8900</td>\n",
       "    </tr>\n",
       "    <tr>\n",
       "      <th>2017-04-03 13:42:00</th>\n",
       "      <td>143.9700</td>\n",
       "    </tr>\n",
       "    <tr>\n",
       "      <th>2017-04-03 13:43:00</th>\n",
       "      <td>143.9199</td>\n",
       "    </tr>\n",
       "    <tr>\n",
       "      <th>2017-04-03 13:44:00</th>\n",
       "      <td>144.0239</td>\n",
       "    </tr>\n",
       "    <tr>\n",
       "      <th>2017-04-03 13:45:00</th>\n",
       "      <td>144.0500</td>\n",
       "    </tr>\n",
       "    <tr>\n",
       "      <th>2017-04-03 13:46:00</th>\n",
       "      <td>144.0638</td>\n",
       "    </tr>\n",
       "    <tr>\n",
       "      <th>2017-04-03 13:47:00</th>\n",
       "      <td>144.0200</td>\n",
       "    </tr>\n",
       "    <tr>\n",
       "      <th>2017-04-03 13:48:00</th>\n",
       "      <td>144.0200</td>\n",
       "    </tr>\n",
       "    <tr>\n",
       "      <th>2017-04-03 13:49:00</th>\n",
       "      <td>143.9700</td>\n",
       "    </tr>\n",
       "    <tr>\n",
       "      <th>2017-04-03 13:50:00</th>\n",
       "      <td>144.0300</td>\n",
       "    </tr>\n",
       "    <tr>\n",
       "      <th>2017-04-03 13:51:00</th>\n",
       "      <td>143.9800</td>\n",
       "    </tr>\n",
       "    <tr>\n",
       "      <th>2017-04-03 13:52:00</th>\n",
       "      <td>143.9000</td>\n",
       "    </tr>\n",
       "    <tr>\n",
       "      <th>2017-04-03 13:53:00</th>\n",
       "      <td>143.9100</td>\n",
       "    </tr>\n",
       "    <tr>\n",
       "      <th>2017-04-03 13:54:00</th>\n",
       "      <td>143.9100</td>\n",
       "    </tr>\n",
       "    <tr>\n",
       "      <th>2017-04-03 13:55:00</th>\n",
       "      <td>143.8600</td>\n",
       "    </tr>\n",
       "    <tr>\n",
       "      <th>2017-04-03 13:56:00</th>\n",
       "      <td>143.8600</td>\n",
       "    </tr>\n",
       "    <tr>\n",
       "      <th>2017-04-03 13:57:00</th>\n",
       "      <td>143.8935</td>\n",
       "    </tr>\n",
       "    <tr>\n",
       "      <th>2017-04-03 13:58:00</th>\n",
       "      <td>143.9300</td>\n",
       "    </tr>\n",
       "    <tr>\n",
       "      <th>2017-04-03 13:59:00</th>\n",
       "      <td>143.9500</td>\n",
       "    </tr>\n",
       "    <tr>\n",
       "      <th>...</th>\n",
       "      <td>...</td>\n",
       "    </tr>\n",
       "    <tr>\n",
       "      <th>2017-08-31 19:31:00</th>\n",
       "      <td>164.0700</td>\n",
       "    </tr>\n",
       "    <tr>\n",
       "      <th>2017-08-31 19:32:00</th>\n",
       "      <td>164.0700</td>\n",
       "    </tr>\n",
       "    <tr>\n",
       "      <th>2017-08-31 19:33:00</th>\n",
       "      <td>164.0750</td>\n",
       "    </tr>\n",
       "    <tr>\n",
       "      <th>2017-08-31 19:34:00</th>\n",
       "      <td>164.1500</td>\n",
       "    </tr>\n",
       "    <tr>\n",
       "      <th>2017-08-31 19:35:00</th>\n",
       "      <td>164.1300</td>\n",
       "    </tr>\n",
       "    <tr>\n",
       "      <th>2017-08-31 19:36:00</th>\n",
       "      <td>164.1400</td>\n",
       "    </tr>\n",
       "    <tr>\n",
       "      <th>2017-08-31 19:37:00</th>\n",
       "      <td>164.1450</td>\n",
       "    </tr>\n",
       "    <tr>\n",
       "      <th>2017-08-31 19:38:00</th>\n",
       "      <td>164.2050</td>\n",
       "    </tr>\n",
       "    <tr>\n",
       "      <th>2017-08-31 19:39:00</th>\n",
       "      <td>164.2350</td>\n",
       "    </tr>\n",
       "    <tr>\n",
       "      <th>2017-08-31 19:40:00</th>\n",
       "      <td>164.2900</td>\n",
       "    </tr>\n",
       "    <tr>\n",
       "      <th>2017-08-31 19:41:00</th>\n",
       "      <td>164.2800</td>\n",
       "    </tr>\n",
       "    <tr>\n",
       "      <th>2017-08-31 19:42:00</th>\n",
       "      <td>164.2600</td>\n",
       "    </tr>\n",
       "    <tr>\n",
       "      <th>2017-08-31 19:43:00</th>\n",
       "      <td>164.2634</td>\n",
       "    </tr>\n",
       "    <tr>\n",
       "      <th>2017-08-31 19:44:00</th>\n",
       "      <td>164.2400</td>\n",
       "    </tr>\n",
       "    <tr>\n",
       "      <th>2017-08-31 19:45:00</th>\n",
       "      <td>164.2700</td>\n",
       "    </tr>\n",
       "    <tr>\n",
       "      <th>2017-08-31 19:46:00</th>\n",
       "      <td>164.2000</td>\n",
       "    </tr>\n",
       "    <tr>\n",
       "      <th>2017-08-31 19:47:00</th>\n",
       "      <td>164.1350</td>\n",
       "    </tr>\n",
       "    <tr>\n",
       "      <th>2017-08-31 19:48:00</th>\n",
       "      <td>164.1800</td>\n",
       "    </tr>\n",
       "    <tr>\n",
       "      <th>2017-08-31 19:49:00</th>\n",
       "      <td>164.2300</td>\n",
       "    </tr>\n",
       "    <tr>\n",
       "      <th>2017-08-31 19:50:00</th>\n",
       "      <td>164.2100</td>\n",
       "    </tr>\n",
       "    <tr>\n",
       "      <th>2017-08-31 19:51:00</th>\n",
       "      <td>164.1850</td>\n",
       "    </tr>\n",
       "    <tr>\n",
       "      <th>2017-08-31 19:52:00</th>\n",
       "      <td>164.1600</td>\n",
       "    </tr>\n",
       "    <tr>\n",
       "      <th>2017-08-31 19:53:00</th>\n",
       "      <td>164.0600</td>\n",
       "    </tr>\n",
       "    <tr>\n",
       "      <th>2017-08-31 19:54:00</th>\n",
       "      <td>164.1900</td>\n",
       "    </tr>\n",
       "    <tr>\n",
       "      <th>2017-08-31 19:55:00</th>\n",
       "      <td>164.2000</td>\n",
       "    </tr>\n",
       "    <tr>\n",
       "      <th>2017-08-31 19:56:00</th>\n",
       "      <td>164.1400</td>\n",
       "    </tr>\n",
       "    <tr>\n",
       "      <th>2017-08-31 19:57:00</th>\n",
       "      <td>164.1100</td>\n",
       "    </tr>\n",
       "    <tr>\n",
       "      <th>2017-08-31 19:58:00</th>\n",
       "      <td>164.1200</td>\n",
       "    </tr>\n",
       "    <tr>\n",
       "      <th>2017-08-31 19:59:00</th>\n",
       "      <td>164.0100</td>\n",
       "    </tr>\n",
       "    <tr>\n",
       "      <th>2017-08-31 20:00:00</th>\n",
       "      <td>163.8800</td>\n",
       "    </tr>\n",
       "  </tbody>\n",
       "</table>\n",
       "<p>41266 rows × 1 columns</p>\n",
       "</div>"
      ],
      "text/plain": [
       "                     NASDAQ.AAPL\n",
       "DATE                            \n",
       "2017-04-03 13:30:00          NaN\n",
       "2017-04-03 13:31:00     143.6800\n",
       "2017-04-03 13:32:00     143.7000\n",
       "2017-04-03 13:33:00     143.6901\n",
       "2017-04-03 13:34:00     143.6400\n",
       "2017-04-03 13:35:00     143.6600\n",
       "2017-04-03 13:36:00     143.7800\n",
       "2017-04-03 13:37:00     143.8640\n",
       "2017-04-03 13:38:00     143.8100\n",
       "2017-04-03 13:39:00     143.8150\n",
       "2017-04-03 13:40:00     143.8000\n",
       "2017-04-03 13:41:00     143.8900\n",
       "2017-04-03 13:42:00     143.9700\n",
       "2017-04-03 13:43:00     143.9199\n",
       "2017-04-03 13:44:00     144.0239\n",
       "2017-04-03 13:45:00     144.0500\n",
       "2017-04-03 13:46:00     144.0638\n",
       "2017-04-03 13:47:00     144.0200\n",
       "2017-04-03 13:48:00     144.0200\n",
       "2017-04-03 13:49:00     143.9700\n",
       "2017-04-03 13:50:00     144.0300\n",
       "2017-04-03 13:51:00     143.9800\n",
       "2017-04-03 13:52:00     143.9000\n",
       "2017-04-03 13:53:00     143.9100\n",
       "2017-04-03 13:54:00     143.9100\n",
       "2017-04-03 13:55:00     143.8600\n",
       "2017-04-03 13:56:00     143.8600\n",
       "2017-04-03 13:57:00     143.8935\n",
       "2017-04-03 13:58:00     143.9300\n",
       "2017-04-03 13:59:00     143.9500\n",
       "...                          ...\n",
       "2017-08-31 19:31:00     164.0700\n",
       "2017-08-31 19:32:00     164.0700\n",
       "2017-08-31 19:33:00     164.0750\n",
       "2017-08-31 19:34:00     164.1500\n",
       "2017-08-31 19:35:00     164.1300\n",
       "2017-08-31 19:36:00     164.1400\n",
       "2017-08-31 19:37:00     164.1450\n",
       "2017-08-31 19:38:00     164.2050\n",
       "2017-08-31 19:39:00     164.2350\n",
       "2017-08-31 19:40:00     164.2900\n",
       "2017-08-31 19:41:00     164.2800\n",
       "2017-08-31 19:42:00     164.2600\n",
       "2017-08-31 19:43:00     164.2634\n",
       "2017-08-31 19:44:00     164.2400\n",
       "2017-08-31 19:45:00     164.2700\n",
       "2017-08-31 19:46:00     164.2000\n",
       "2017-08-31 19:47:00     164.1350\n",
       "2017-08-31 19:48:00     164.1800\n",
       "2017-08-31 19:49:00     164.2300\n",
       "2017-08-31 19:50:00     164.2100\n",
       "2017-08-31 19:51:00     164.1850\n",
       "2017-08-31 19:52:00     164.1600\n",
       "2017-08-31 19:53:00     164.0600\n",
       "2017-08-31 19:54:00     164.1900\n",
       "2017-08-31 19:55:00     164.2000\n",
       "2017-08-31 19:56:00     164.1400\n",
       "2017-08-31 19:57:00     164.1100\n",
       "2017-08-31 19:58:00     164.1200\n",
       "2017-08-31 19:59:00     164.0100\n",
       "2017-08-31 20:00:00     163.8800\n",
       "\n",
       "[41266 rows x 1 columns]"
      ]
     },
     "execution_count": 14,
     "metadata": {},
     "output_type": "execute_result"
    }
   ],
   "source": [
    "ds_AAPL.shift(1)"
   ]
  },
  {
   "cell_type": "code",
   "execution_count": 15,
   "metadata": {},
   "outputs": [
    {
     "name": "stdout",
     "output_type": "stream",
     "text": [
      "28886\n",
      "12380\n"
     ]
    }
   ],
   "source": [
    "X = ds_AAPL.values\n",
    "train = X[0:28886] # 27 data as train data\n",
    "test = X[28886:] # 9 data as test data\n",
    "print(train.size)\n",
    "print(test.size)\n",
    "predictions = []"
   ]
  },
  {
   "cell_type": "markdown",
   "metadata": {},
   "source": [
    "# ARIMA model"
   ]
  },
  {
   "cell_type": "code",
   "execution_count": 16,
   "metadata": {
    "collapsed": true
   },
   "outputs": [],
   "source": [
    "from statsmodels.tsa.arima_model import ARIMA"
   ]
  },
  {
   "cell_type": "code",
   "execution_count": 17,
   "metadata": {
    "collapsed": true
   },
   "outputs": [],
   "source": [
    "import itertools\n",
    "p=d=q=range(0,6)\n",
    "pdq=list(itertools.product(p,d,q))"
   ]
  },
  {
   "cell_type": "code",
   "execution_count": 18,
   "metadata": {},
   "outputs": [
    {
     "name": "stdout",
     "output_type": "stream",
     "text": [
      "(0, 0, 0) 170326.972045\n",
      "(0, 0, 1) 131018.03599865185\n",
      "(0, 0, 2) 95780.67244459334\n",
      "(0, 1, 0) -64708.7120064\n",
      "(0, 1, 1) -64706.8773153409\n",
      "(0, 1, 2) -64718.28609667219\n",
      "(0, 1, 3) -64719.67999909342\n",
      "(0, 1, 4) -64724.746502435286\n",
      "(0, 1, 5) -64723.273957570884\n",
      "(0, 2, 0) -44617.1322075\n",
      "(0, 2, 1) -64678.284053556345\n",
      "(1, 0, 0) -64703.10601142913\n",
      "(1, 0, 1) -64701.25996832439\n",
      "(1, 0, 2) -64712.567383946094\n",
      "(1, 0, 3) -64714.013816887425\n",
      "(1, 0, 4) -64719.0074140192\n",
      "(1, 0, 5) -64717.51647330355\n",
      "(1, 1, 0) -64706.87029558887\n",
      "(1, 1, 1) -64714.631574454295\n",
      "(1, 1, 2) -64725.38695945205\n",
      "(1, 2, 0) -52566.60024359099\n",
      "(1, 2, 1) -64686.66060403209\n",
      "(1, 2, 2) -64694.133387643335\n",
      "(1, 2, 3) -64689.76923660927\n",
      "(1, 2, 4) -64699.29884408724\n",
      "(1, 2, 5) -64699.32621363683\n",
      "(2, 0, 0) -64701.25345517087\n",
      "(2, 0, 1) -64709.05736396497\n",
      "(2, 0, 2) -64719.70639660023\n",
      "(2, 0, 3) -64717.71698026179\n",
      "(2, 0, 4) -64716.79946616772\n",
      "(2, 0, 5) -64715.50268818566\n",
      "(2, 1, 0) -64717.930868098265\n",
      "(2, 1, 1) -64725.40319961759\n",
      "(2, 2, 0) -56350.178772023486\n",
      "(2, 2, 1) -64659.76741152724\n",
      "(2, 2, 2) -64677.504266792166\n",
      "(2, 2, 3) -64691.4333774617\n",
      "(2, 2, 4) -64685.84725358458\n",
      "(2, 2, 5) -64698.45477597737\n",
      "(3, 0, 0) -64712.215473133896\n",
      "(3, 0, 1) -64719.725561353756\n",
      "(3, 0, 2) -64717.73653529119\n",
      "(3, 0, 3) -64716.716986322135\n",
      "(3, 0, 4) -64716.655001614534\n",
      "(3, 0, 5) -64715.34160915448\n",
      "(3, 1, 0) -64719.3189699363\n",
      "(3, 1, 1) -64723.405831671334\n",
      "(3, 1, 2) -64722.54804937479\n",
      "(3, 1, 3) -64730.23111393429\n",
      "(3, 2, 0) -58063.13991574208\n",
      "(3, 2, 1) -64689.6273030498\n",
      "(3, 2, 2) -64691.78160414797\n",
      "(3, 2, 3) -64683.62565863498\n",
      "(3, 2, 4) -64690.81232808698\n",
      "(3, 2, 5) -64691.41454446675\n",
      "(4, 0, 0) -64713.65383407986\n",
      "(4, 0, 1) -64717.729738501395\n",
      "(4, 0, 2) -64716.802809124434\n",
      "(4, 0, 3) -64724.47928982848\n",
      "(4, 0, 4) -64730.53619648656\n",
      "(4, 0, 5) -64736.274105888675\n",
      "(4, 1, 0) -64724.01865458551\n",
      "(4, 1, 1) -64723.51089426143\n",
      "(4, 1, 2) -64722.38263317883\n",
      "(4, 1, 3) -64771.90617432365\n",
      "(4, 1, 4) -64744.94385185996\n",
      "(4, 2, 0) -59269.368500530036\n",
      "(4, 2, 1) -64599.689493432656\n",
      "(4, 2, 2) -64639.316312238065\n",
      "(4, 2, 3) -64680.10116645576\n",
      "(4, 2, 4) -64688.4713873244\n",
      "(4, 2, 5) -64696.540423043494\n",
      "(5, 0, 0) -64718.28359361814\n",
      "(5, 0, 1) -64716.732890158746\n",
      "(5, 0, 2) -64716.61169364766\n",
      "(5, 0, 3) -64740.66485998567\n",
      "(5, 0, 4) -64730.98743925852\n",
      "(5, 0, 5) -64737.102425221354\n",
      "(5, 1, 0) -64722.57419426138\n",
      "(5, 1, 1) -64721.56022781554\n",
      "(5, 1, 2) -64721.03844520495\n",
      "(5, 1, 3) -64726.29568486901\n",
      "(5, 1, 4) -64742.14874379958\n",
      "(5, 2, 0) -60006.91481457556\n",
      "(5, 2, 1) -64703.482060051654\n",
      "(5, 2, 2) -64703.43985391928\n",
      "(5, 2, 3) -64625.64136726172\n",
      "(5, 2, 4) -64646.76978827409\n",
      "(5, 2, 5) -64682.509212066376\n"
     ]
    }
   ],
   "source": [
    "import warnings\n",
    "warnings.filterwarnings('ignore')\n",
    "for param in pdq:\n",
    "    try:\n",
    "        model_arima = ARIMA(train, order=param)\n",
    "        model_arima_fit = model_arima.fit()\n",
    "        print(param,model_arima_fit.aic)\n",
    "    except:\n",
    "        continue"
   ]
  },
  {
   "cell_type": "code",
   "execution_count": 20,
   "metadata": {},
   "outputs": [
    {
     "name": "stdout",
     "output_type": "stream",
     "text": [
      "-64744.94385185996\n"
     ]
    }
   ],
   "source": [
    "#p,d,q \n",
    "#p -> Periods taken for auto regressive model\n",
    "#d -> Integrated order, difference\n",
    "#q -> Periods in moving average model\n",
    "model_arima = ARIMA(train, order=(4,1,4))\n",
    "model_arima_fit = model_arima.fit()\n",
    "print(model_arima_fit.aic)"
   ]
  },
  {
   "cell_type": "code",
   "execution_count": 21,
   "metadata": {},
   "outputs": [
    {
     "data": {
      "text/plain": [
       "array([ 150.61361418,  150.61507134,  150.61484542, ...,  153.58385892,\n",
       "        153.58409883,  153.58433875])"
      ]
     },
     "execution_count": 21,
     "metadata": {},
     "output_type": "execute_result"
    }
   ],
   "source": [
    "predictions = model_arima_fit.forecast(steps=12380)[0]\n",
    "predictions"
   ]
  },
  {
   "cell_type": "code",
   "execution_count": 22,
   "metadata": {},
   "outputs": [
    {
     "data": {
      "text/plain": [
       "[<matplotlib.lines.Line2D at 0x1736281a400>]"
      ]
     },
     "execution_count": 22,
     "metadata": {},
     "output_type": "execute_result"
    },
    {
     "data": {
      "image/png": "[encoded data removed]",
      "text/plain": [
       "<matplotlib.figure.Figure at 0x173609caeb8>"
      ]
     },
     "metadata": {},
     "output_type": "display_data"
    }
   ],
   "source": [
    "plt.plot(test)\n",
    "plt.plot(predictions, color='red')"
   ]
  },
  {
   "cell_type": "code",
   "execution_count": 23,
   "metadata": {},
   "outputs": [
    {
     "data": {
      "text/plain": [
       "37.552642773007499"
      ]
     },
     "execution_count": 23,
     "metadata": {},
     "output_type": "execute_result"
    }
   ],
   "source": [
    "from sklearn.metrics import mean_squared_error\n",
    "mean_squared_error(test,predictions)"
   ]
  },
  {
   "cell_type": "markdown",
   "metadata": {},
   "source": [
    "The above forecasting done for NASDAQ.AAPL"
   ]
  }
 ],
 "metadata": {
  "kernelspec": {
   "display_name": "Python 3",
   "language": "python",
   "name": "python3"
  },
  "language_info": {
   "codemirror_mode": {
    "name": "ipython",
    "version": 3
   },
   "file_extension": ".py",
   "mimetype": "text/x-python",
   "name": "python",
   "nbconvert_exporter": "python",
   "pygments_lexer": "ipython3",
   "version": "3.6.3"
  }
 },
 "nbformat": 4,
 "nbformat_minor": 2
}
